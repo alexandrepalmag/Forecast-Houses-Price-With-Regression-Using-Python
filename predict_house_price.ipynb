{
 "cells": [
  {
   "cell_type": "markdown",
   "id": "49f2c2a5",
   "metadata": {},
   "source": [
    "# House Sales in King County, USA\n",
    "\n",
    "## Here is a brief description of the database\n",
    "\n",
    "**Source**: https://www.kaggle.com/datasets/harlfoxem/housesalesprediction\n",
    "\n",
    "This database contains prices for homes sold in King County, USA.\n",
    "This dataset contains house sale prices for King County, which includes Seattle. is a sample of on-site sales between May 2014 and May 2015\n",
    "\n",
    "* **id**: ID for the house\n",
    "\n",
    "* **date**: Date the house was sold\n",
    "\n",
    "* **price**: Price at which the house was sold\n",
    "\n",
    "* **bedrooms**: Number of bedrooms the house has\n",
    "\n",
    "* **bathrooms**: Number of bathrooms the house has\n",
    "\n",
    "* **sqft_living**: Area within the property-measured in square feet\n",
    "\n",
    "* **sqft_lot**: Lot area - measured in square feet\n",
    "\n",
    "* **floors**: Number of floors\n",
    "\n",
    "* **waterfront**: Indicates whether or not the property has a sea view\n",
    "\n",
    "* **view**: Index from 0 to 4 that rates how good the view of the property was\n",
    "\n",
    "* **condition**: Contains an index from 1 to 5 on the condition of the property\n",
    "\n",
    "* **grade**: Contains an index of 1 to 13: a) 1-3->the property has a low level of construction and design; b) 7->has a medium level of construction and design; c) 11-13->has a high level of construction and design quality.\n",
    "\n",
    "* **sqft_above**: Reports the area of the interior living space that is above ground level\n",
    "\n",
    "* **sqft_basement**: Contains the basement area\n",
    "\n",
    "* **yr_built**: Contains the construction date of the property\n",
    "\n",
    "* **yr_renovated**: Contains the date of the last renovation carried out on the property\n",
    "\n",
    "* **zipcode**: Contains zipcode\n",
    "\n",
    "* **lat**: Latitude\n",
    "\n",
    "* **long**: Longitude\n",
    "\n",
    "* **sqft_living15**: Contains the average area within the properties of the 15 nearest neighbors-measured in square feet\n",
    "\n",
    "* **sqft_lot15**: Contains the average area of the 15 nearest neighbors' lots-measured in square feet"
   ]
  },
  {
   "cell_type": "code",
   "execution_count": 1,
   "id": "4e339357",
   "metadata": {},
   "outputs": [],
   "source": [
    "%config IPCompleter.greedy=True"
   ]
  },
  {
   "cell_type": "code",
   "execution_count": 2,
   "id": "031aeeb9",
   "metadata": {},
   "outputs": [
    {
     "name": "stdout",
     "output_type": "stream",
     "text": [
      "Current Version: 3.9.7\n"
     ]
    }
   ],
   "source": [
    "#Version python language\n",
    "from platform import python_version\n",
    "print('Current Version:', python_version())"
   ]
  },
  {
   "cell_type": "code",
   "execution_count": null,
   "id": "10abf25f",
   "metadata": {},
   "outputs": [],
   "source": [
    "!pip install -q -U watermark"
   ]
  },
  {
   "cell_type": "code",
   "execution_count": null,
   "id": "bd0f2bda",
   "metadata": {},
   "outputs": [],
   "source": [
    "!pip install -q ipython-sql"
   ]
  },
  {
   "cell_type": "code",
   "execution_count": null,
   "id": "632f8212",
   "metadata": {},
   "outputs": [],
   "source": [
    "#To creatin messing value map\n",
    "!pip install -q missingno"
   ]
  },
  {
   "cell_type": "code",
   "execution_count": null,
   "id": "4c914b9f",
   "metadata": {},
   "outputs": [],
   "source": [
    "#Allows application of categorization to variables\n",
    "!pip install -q category_encoders"
   ]
  },
  {
   "cell_type": "code",
   "execution_count": null,
   "id": "420bf4ff",
   "metadata": {},
   "outputs": [],
   "source": [
    "#High-end graphics creation\n",
    "!pip install -q plotly"
   ]
  },
  {
   "cell_type": "code",
   "execution_count": null,
   "id": "0d14faa3",
   "metadata": {},
   "outputs": [],
   "source": [
    "#Statistic package\n",
    "!pip install -q researchpy"
   ]
  },
  {
   "cell_type": "code",
   "execution_count": null,
   "id": "63289ef3",
   "metadata": {},
   "outputs": [],
   "source": [
    "#Imports\n",
    "\n",
    "#Data manipulation\n",
    "import pandas as pd\n",
    "import numpy as np\n",
    "\n",
    "#For using sqlite database\n",
    "#import sqlite3 as sql3\n",
    "\n",
    "#Visualization\n",
    "import matplotlib.pyplot as plt\n",
    "import seaborn as sns\n",
    "import plotly.express as px\n",
    "import plotly.graph_objects as go\n",
    "from plotly.subplots import make_subplots\n",
    "import missingno\n",
    "\n",
    "#Statistic\n",
    "import scipy\n",
    "from scipy.stats import normaltest\n",
    "from scipy.stats import chi2_contingency\n",
    "import researchpy as rp\n",
    "\n",
    "#Attribute engineering\n",
    "from sklearn.pipeline import Pipeline\n",
    "from sklearn.impute import SimpleImputer\n",
    "from sklearn.preprocessing import OneHotEncoder, LabelEncoder, OrdinalEncoder\n",
    "from sklearn.compose import ColumnTransformer\n",
    "import category_encoders as ce\n",
    "\n",
    "#Ignore Warning; commands to ignore the warnings that come with packages\n",
    "import sys\n",
    "import warnings\n",
    "if not sys.warnoptions:\n",
    "    warnings.simplefilter(\"ignore\")"
   ]
  },
  {
   "cell_type": "code",
   "execution_count": null,
   "id": "fb7bc26b",
   "metadata": {},
   "outputs": [],
   "source": [
    "#Versions of packages used in this jupyter notebook\n",
    "%reload_ext watermark\n",
    "%watermark -a \"Alexandre Palma Gonçalves\" --iversions"
   ]
  },
  {
   "cell_type": "code",
   "execution_count": null,
   "id": "74c002d8",
   "metadata": {},
   "outputs": [],
   "source": [
    "#Load the dataset\n",
    "df=pd.read_csv('kc_house_data/kc_house_data.csv')"
   ]
  },
  {
   "cell_type": "code",
   "execution_count": null,
   "id": "758da6d9",
   "metadata": {},
   "outputs": [],
   "source": []
  },
  {
   "cell_type": "code",
   "execution_count": null,
   "id": "4e7b80df",
   "metadata": {},
   "outputs": [],
   "source": []
  }
 ],
 "metadata": {
  "kernelspec": {
   "display_name": "Python 3 (ipykernel)",
   "language": "python",
   "name": "python3"
  },
  "language_info": {
   "codemirror_mode": {
    "name": "ipython",
    "version": 3
   },
   "file_extension": ".py",
   "mimetype": "text/x-python",
   "name": "python",
   "nbconvert_exporter": "python",
   "pygments_lexer": "ipython3",
   "version": "3.9.7"
  }
 },
 "nbformat": 4,
 "nbformat_minor": 5
}
